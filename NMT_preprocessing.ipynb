{
  "nbformat": 4,
  "nbformat_minor": 0,
  "metadata": {
    "colab": {
      "name": "NMT_preprocessing",
      "provenance": [],
      "collapsed_sections": [
        "Hl6n3QVtd0MC",
        "AvPT1GC2eLal",
        "uHyzias1gNCF"
      ],
      "authorship_tag": "ABX9TyN3qAxB3va08foHURtRRRAo",
      "include_colab_link": true
    },
    "kernelspec": {
      "name": "python3",
      "display_name": "Python 3"
    },
    "language_info": {
      "name": "python"
    }
  },
  "cells": [
    {
      "cell_type": "markdown",
      "metadata": {
        "id": "view-in-github",
        "colab_type": "text"
      },
      "source": [
        "<a href=\"https://colab.research.google.com/github/mehrn79/NMT/blob/preprocessing/NMT_preprocessing.ipynb\" target=\"_parent\"><img src=\"https://colab.research.google.com/assets/colab-badge.svg\" alt=\"Open In Colab\"/></a>"
      ]
    },
    {
      "cell_type": "markdown",
      "source": [
        "# **NMT preprocessing**"
      ],
      "metadata": {
        "id": "78bq1K85dod7"
      }
    },
    {
      "cell_type": "markdown",
      "source": [
        "## **Essential libraries**"
      ],
      "metadata": {
        "id": "Hl6n3QVtd0MC"
      }
    },
    {
      "cell_type": "code",
      "source": [
        "import pandas as pd\n",
        "import string\n",
        "from string import digits\n",
        "import re\n",
        "from sklearn.utils import shuffle\n"
      ],
      "metadata": {
        "id": "YRwZPdR5_tAL"
      },
      "execution_count": 47,
      "outputs": []
    },
    {
      "cell_type": "markdown",
      "source": [
        "## **Create a csv file which is combination of our datasets**"
      ],
      "metadata": {
        "id": "AvPT1GC2eLal"
      }
    },
    {
      "cell_type": "markdown",
      "source": [
        "### **read datasets separately**"
      ],
      "metadata": {
        "id": "mRpqQO12fdik"
      }
    },
    {
      "cell_type": "code",
      "source": [
        "with open('/content/en.txt') as f:\n",
        "  data_en = f.read()\n",
        "\n",
        "with open('/content/fa.txt') as file:\n",
        "  data_fa = file.read()"
      ],
      "metadata": {
        "id": "hw7G9DIl_utb"
      },
      "execution_count": 48,
      "outputs": []
    },
    {
      "cell_type": "markdown",
      "source": [
        "### **invert each sentence in a separate index of a list**"
      ],
      "metadata": {
        "id": "inUKU1Xcfl9B"
      }
    },
    {
      "cell_type": "code",
      "source": [
        "uncleaned_data_en = data_en.strip().split('\\n')\n",
        "\n",
        "uncleaned_data_fa = data_fa.strip().split('\\n')\n"
      ],
      "metadata": {
        "id": "Xpz8jf_WPJG_"
      },
      "execution_count": 49,
      "outputs": []
    },
    {
      "cell_type": "markdown",
      "source": [
        "### **generating csv file**"
      ],
      "metadata": {
        "id": "uHyzias1gNCF"
      }
    },
    {
      "cell_type": "code",
      "source": [
        "language_data = pd.DataFrame(columns=['English','Persian'])\n",
        "language_data['English'] = uncleaned_data_en\n",
        "language_data['Persian'] = uncleaned_data_fa\n",
        "\n",
        "language_data.to_csv('language_data.csv', index=False)"
      ],
      "metadata": {
        "id": "Myw2SLpQV_2P"
      },
      "execution_count": 50,
      "outputs": []
    },
    {
      "cell_type": "code",
      "source": [
        "language_data = pd.read_csv('language_data.csv')\n",
        "language_data.head()"
      ],
      "metadata": {
        "colab": {
          "base_uri": "https://localhost:8080/",
          "height": 0
        },
        "id": "q1rhB2o9Wil2",
        "outputId": "9b83a0a6-9709-40d7-bafd-34970f600870"
      },
      "execution_count": 51,
      "outputs": [
        {
          "output_type": "execute_result",
          "data": {
            "text/plain": [
              "                English                                    Persian\n",
              "0    ﻿raspy breathing .                               صداي خر خر .\n",
              "1                 dad .                                      پدر .\n",
              "2  maybe its the wind .                       شايد صداي باد باشه .\n",
              "3                  no .                                       نه .\n",
              "4    stop please stop .  دست نگه داريد خواهش ميکنم دست نگه داريد ."
            ],
            "text/html": [
              "\n",
              "  <div id=\"df-386d5b71-bd36-4f96-85cc-3f71e039f49e\">\n",
              "    <div class=\"colab-df-container\">\n",
              "      <div>\n",
              "<style scoped>\n",
              "    .dataframe tbody tr th:only-of-type {\n",
              "        vertical-align: middle;\n",
              "    }\n",
              "\n",
              "    .dataframe tbody tr th {\n",
              "        vertical-align: top;\n",
              "    }\n",
              "\n",
              "    .dataframe thead th {\n",
              "        text-align: right;\n",
              "    }\n",
              "</style>\n",
              "<table border=\"1\" class=\"dataframe\">\n",
              "  <thead>\n",
              "    <tr style=\"text-align: right;\">\n",
              "      <th></th>\n",
              "      <th>English</th>\n",
              "      <th>Persian</th>\n",
              "    </tr>\n",
              "  </thead>\n",
              "  <tbody>\n",
              "    <tr>\n",
              "      <th>0</th>\n",
              "      <td>﻿raspy breathing .</td>\n",
              "      <td>صداي خر خر .</td>\n",
              "    </tr>\n",
              "    <tr>\n",
              "      <th>1</th>\n",
              "      <td>dad .</td>\n",
              "      <td>پدر .</td>\n",
              "    </tr>\n",
              "    <tr>\n",
              "      <th>2</th>\n",
              "      <td>maybe its the wind .</td>\n",
              "      <td>شايد صداي باد باشه .</td>\n",
              "    </tr>\n",
              "    <tr>\n",
              "      <th>3</th>\n",
              "      <td>no .</td>\n",
              "      <td>نه .</td>\n",
              "    </tr>\n",
              "    <tr>\n",
              "      <th>4</th>\n",
              "      <td>stop please stop .</td>\n",
              "      <td>دست نگه داريد خواهش ميکنم دست نگه داريد .</td>\n",
              "    </tr>\n",
              "  </tbody>\n",
              "</table>\n",
              "</div>\n",
              "      <button class=\"colab-df-convert\" onclick=\"convertToInteractive('df-386d5b71-bd36-4f96-85cc-3f71e039f49e')\"\n",
              "              title=\"Convert this dataframe to an interactive table.\"\n",
              "              style=\"display:none;\">\n",
              "        \n",
              "  <svg xmlns=\"http://www.w3.org/2000/svg\" height=\"24px\"viewBox=\"0 0 24 24\"\n",
              "       width=\"24px\">\n",
              "    <path d=\"M0 0h24v24H0V0z\" fill=\"none\"/>\n",
              "    <path d=\"M18.56 5.44l.94 2.06.94-2.06 2.06-.94-2.06-.94-.94-2.06-.94 2.06-2.06.94zm-11 1L8.5 8.5l.94-2.06 2.06-.94-2.06-.94L8.5 2.5l-.94 2.06-2.06.94zm10 10l.94 2.06.94-2.06 2.06-.94-2.06-.94-.94-2.06-.94 2.06-2.06.94z\"/><path d=\"M17.41 7.96l-1.37-1.37c-.4-.4-.92-.59-1.43-.59-.52 0-1.04.2-1.43.59L10.3 9.45l-7.72 7.72c-.78.78-.78 2.05 0 2.83L4 21.41c.39.39.9.59 1.41.59.51 0 1.02-.2 1.41-.59l7.78-7.78 2.81-2.81c.8-.78.8-2.07 0-2.86zM5.41 20L4 18.59l7.72-7.72 1.47 1.35L5.41 20z\"/>\n",
              "  </svg>\n",
              "      </button>\n",
              "      \n",
              "  <style>\n",
              "    .colab-df-container {\n",
              "      display:flex;\n",
              "      flex-wrap:wrap;\n",
              "      gap: 12px;\n",
              "    }\n",
              "\n",
              "    .colab-df-convert {\n",
              "      background-color: #E8F0FE;\n",
              "      border: none;\n",
              "      border-radius: 50%;\n",
              "      cursor: pointer;\n",
              "      display: none;\n",
              "      fill: #1967D2;\n",
              "      height: 32px;\n",
              "      padding: 0 0 0 0;\n",
              "      width: 32px;\n",
              "    }\n",
              "\n",
              "    .colab-df-convert:hover {\n",
              "      background-color: #E2EBFA;\n",
              "      box-shadow: 0px 1px 2px rgba(60, 64, 67, 0.3), 0px 1px 3px 1px rgba(60, 64, 67, 0.15);\n",
              "      fill: #174EA6;\n",
              "    }\n",
              "\n",
              "    [theme=dark] .colab-df-convert {\n",
              "      background-color: #3B4455;\n",
              "      fill: #D2E3FC;\n",
              "    }\n",
              "\n",
              "    [theme=dark] .colab-df-convert:hover {\n",
              "      background-color: #434B5C;\n",
              "      box-shadow: 0px 1px 3px 1px rgba(0, 0, 0, 0.15);\n",
              "      filter: drop-shadow(0px 1px 2px rgba(0, 0, 0, 0.3));\n",
              "      fill: #FFFFFF;\n",
              "    }\n",
              "  </style>\n",
              "\n",
              "      <script>\n",
              "        const buttonEl =\n",
              "          document.querySelector('#df-386d5b71-bd36-4f96-85cc-3f71e039f49e button.colab-df-convert');\n",
              "        buttonEl.style.display =\n",
              "          google.colab.kernel.accessAllowed ? 'block' : 'none';\n",
              "\n",
              "        async function convertToInteractive(key) {\n",
              "          const element = document.querySelector('#df-386d5b71-bd36-4f96-85cc-3f71e039f49e');\n",
              "          const dataTable =\n",
              "            await google.colab.kernel.invokeFunction('convertToInteractive',\n",
              "                                                     [key], {});\n",
              "          if (!dataTable) return;\n",
              "\n",
              "          const docLinkHtml = 'Like what you see? Visit the ' +\n",
              "            '<a target=\"_blank\" href=https://colab.research.google.com/notebooks/data_table.ipynb>data table notebook</a>'\n",
              "            + ' to learn more about interactive tables.';\n",
              "          element.innerHTML = '';\n",
              "          dataTable['output_type'] = 'display_data';\n",
              "          await google.colab.output.renderOutput(dataTable, element);\n",
              "          const docLink = document.createElement('div');\n",
              "          docLink.innerHTML = docLinkHtml;\n",
              "          element.appendChild(docLink);\n",
              "        }\n",
              "      </script>\n",
              "    </div>\n",
              "  </div>\n",
              "  "
            ]
          },
          "metadata": {},
          "execution_count": 51
        }
      ]
    },
    {
      "cell_type": "markdown",
      "source": [
        "### **save csv file in google drive**"
      ],
      "metadata": {
        "id": "bAkLtTkmjS1z"
      }
    },
    {
      "cell_type": "code",
      "source": [
        "from google.colab import drive\n",
        "drive.mount('/content/drive')\n",
        "\n",
        "!cp -r \"/content/language_data.csv\" \"/content/drive/MyDrive\""
      ],
      "metadata": {
        "colab": {
          "base_uri": "https://localhost:8080/"
        },
        "id": "p58AvCZhhpQ7",
        "outputId": "b1c3d95c-5337-43fc-c10d-5901399e9f3a"
      },
      "execution_count": 52,
      "outputs": [
        {
          "output_type": "stream",
          "name": "stdout",
          "text": [
            "Drive already mounted at /content/drive; to attempt to forcibly remount, call drive.mount(\"/content/drive\", force_remount=True).\n"
          ]
        }
      ]
    },
    {
      "cell_type": "markdown",
      "source": [
        "## **Cleaning dataset**"
      ],
      "metadata": {
        "id": "dTGlUZe9mu1t"
      }
    },
    {
      "cell_type": "code",
      "source": [
        "english_text = language_data['English'].values\n",
        "persian_text = language_data['Persian'].values"
      ],
      "metadata": {
        "id": "NeFt4bCjW42C"
      },
      "execution_count": 61,
      "outputs": []
    },
    {
      "cell_type": "markdown",
      "source": [
        "### **removing inverted commas**"
      ],
      "metadata": {
        "id": "_R6BI6tuneSY"
      }
    },
    {
      "cell_type": "code",
      "source": [
        "english_text = [re.sub(\"'\",'',x) for x in english_text]\n",
        "persian_text = [re.sub(\"'\",'',x) for x in persian_text]"
      ],
      "metadata": {
        "id": "XbzpzyX4nsAW"
      },
      "execution_count": 62,
      "outputs": []
    },
    {
      "cell_type": "markdown",
      "source": [
        "### **Removing punctuation**"
      ],
      "metadata": {
        "id": "uERkb8qfnwnJ"
      }
    },
    {
      "cell_type": "code",
      "source": [
        "def remove_punc(text_list):\n",
        "  table = str.maketrans('', '', string.punctuation)\n",
        "  removed_punc_text = []\n",
        "  for sent in text_list:\n",
        "    sentance = [w.translate(table) for w in sent.split(' ')]\n",
        "    removed_punc_text.append(' '.join(sentance))\n",
        "  return removed_punc_text\n",
        "english_text = remove_punc(english_text)\n",
        "persian_text = remove_punc(persian_text)"
      ],
      "metadata": {
        "id": "5bO-dRuhoPm5"
      },
      "execution_count": 63,
      "outputs": []
    },
    {
      "cell_type": "markdown",
      "source": [
        "### **Removing digits**"
      ],
      "metadata": {
        "id": "3zBauZMWoU5g"
      }
    },
    {
      "cell_type": "code",
      "source": [
        "remove_digits = str.maketrans('', '', digits)\n",
        "removed_digits_text = []\n",
        "for sent in english_text:\n",
        "  sentance = [w.translate(remove_digits) for w in sent.split(' ')]\n",
        "  removed_digits_text.append(' '.join(sentance))\n",
        "english_text = removed_digits_text"
      ],
      "metadata": {
        "id": "1y1UHzDzodkx"
      },
      "execution_count": 64,
      "outputs": []
    },
    {
      "cell_type": "markdown",
      "source": [
        "### **Removing the stating and ending whitespaces**"
      ],
      "metadata": {
        "id": "-qloUHpOoogh"
      }
    },
    {
      "cell_type": "code",
      "source": [
        "english_text = [x.strip() for x in english_text]\n",
        "persian_text = [x.strip() for x in persian_text]"
      ],
      "metadata": {
        "id": "4GkevJl1ozu1"
      },
      "execution_count": 65,
      "outputs": []
    }
  ]
}